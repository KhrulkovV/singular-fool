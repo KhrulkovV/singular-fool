{
 "cells": [
  {
   "cell_type": "code",
   "execution_count": 1,
   "metadata": {
    "collapsed": false,
    "deletable": true,
    "editable": true
   },
   "outputs": [
    {
     "name": "stderr",
     "output_type": "stream",
     "text": [
      "Using TensorFlow backend.\n"
     ]
    }
   ],
   "source": [
    "import tensorflow as tf\n",
    "import numpy as np\n",
    "import singular_fool\n",
    "import matplotlib.pyplot as plt\n",
    "from keras import applications\n",
    "from keras.applications.vgg19 import preprocess_input, decode_predictions\n",
    "from img_utils import load_images\n",
    "from keras import backend as K\n",
    "%matplotlib inline"
   ]
  },
  {
   "cell_type": "code",
   "execution_count": 2,
   "metadata": {
    "collapsed": true,
    "deletable": true,
    "editable": true
   },
   "outputs": [],
   "source": [
    "# Load example images\n",
    "imgs = load_images('imgs/').astype(float)"
   ]
  },
  {
   "cell_type": "code",
   "execution_count": 3,
   "metadata": {
    "collapsed": true,
    "deletable": true,
    "editable": true
   },
   "outputs": [],
   "source": [
    "imgs = preprocess_input(imgs)"
   ]
  },
  {
   "cell_type": "code",
   "execution_count": 4,
   "metadata": {
    "collapsed": false,
    "deletable": true,
    "editable": true
   },
   "outputs": [],
   "source": [
    "# Create your favourite session, e.g. set up GPU\n",
    "sess = tf.Session()\n",
    "K.set_session(sess)"
   ]
  },
  {
   "cell_type": "code",
   "execution_count": 5,
   "metadata": {
    "collapsed": true,
    "deletable": true,
    "editable": true
   },
   "outputs": [],
   "source": [
    "x = tf.placeholder(tf.float32, (None, 224, 224, 3))"
   ]
  },
  {
   "cell_type": "code",
   "execution_count": 6,
   "metadata": {
    "collapsed": true,
    "deletable": true,
    "editable": true
   },
   "outputs": [],
   "source": [
    "# Load pretrained VGG-19 net\n",
    "vgg = applications.VGG19(input_tensor=x)"
   ]
  },
  {
   "cell_type": "code",
   "execution_count": 27,
   "metadata": {
    "collapsed": false
   },
   "outputs": [],
   "source": [
    "# Choose some hidden layer to compute adversarial perturbations\n",
    "hidden = vgg.layers[6].output"
   ]
  },
  {
   "cell_type": "code",
   "execution_count": 28,
   "metadata": {
    "collapsed": false,
    "deletable": true,
    "editable": true
   },
   "outputs": [
    {
     "name": "stdout",
     "output_type": "stream",
     "text": [
      "Starting power method...\n",
      "Iteration 1 / 15 with current singular value : 480.671164452\n",
      "Iteration 2 / 15 with current singular value : 1363.15634128\n",
      "Iteration 3 / 15 with current singular value : 1600.35505294\n",
      "Iteration 4 / 15 with current singular value : 1695.775397\n",
      "Iteration 5 / 15 with current singular value : 1743.12959165\n",
      "Iteration 6 / 15 with current singular value : 1772.83288145\n",
      "Iteration 7 / 15 with current singular value : 1794.38340694\n",
      "Iteration 8 / 15 with current singular value : 1809.16078778\n",
      "Iteration 9 / 15 with current singular value : 1819.47977947\n",
      "Iteration 10 / 15 with current singular value : 1827.2895221\n",
      "Iteration 11 / 15 with current singular value : 1832.76185405\n",
      "Iteration 12 / 15 with current singular value : 1837.13898514\n",
      "Iteration 13 / 15 with current singular value : 1841.13372139\n",
      "Iteration 14 / 15 with current singular value : 1845.63384858\n",
      "Iteration 15 / 15 with current singular value : 1849.62165698\n"
     ]
    }
   ],
   "source": [
    "# Construct adversarial perturbation using first 32 images\n",
    "v = singular_fool.get_adversary(x, hidden, imgs[:32], sess, q=5.0, verb=1, maxiter=15, aux_tensors={K.learning_phase(): 0})"
   ]
  },
  {
   "cell_type": "code",
   "execution_count": 29,
   "metadata": {
    "collapsed": true
   },
   "outputs": [],
   "source": [
    "v_img = v.reshape((224, 224, 3))"
   ]
  },
  {
   "cell_type": "code",
   "execution_count": 30,
   "metadata": {
    "collapsed": false
   },
   "outputs": [
    {
     "data": {
      "text/plain": [
       "<matplotlib.image.AxesImage at 0x7f64107ea1d0>"
      ]
     },
     "execution_count": 30,
     "metadata": {},
     "output_type": "execute_result"
    },
    {
     "data": {
      "image/png": "[encoded data removed]",
      "text/plain": [
       "<matplotlib.figure.Figure at 0x7f6474712090>"
      ]
     },
     "metadata": {},
     "output_type": "display_data"
    }
   ],
   "source": [
    "plt.imshow(v_img)"
   ]
  },
  {
   "cell_type": "code",
   "execution_count": null,
   "metadata": {
    "collapsed": true
   },
   "outputs": [],
   "source": []
  }
 ],
 "metadata": {
  "kernelspec": {
   "display_name": "Python 2",
   "language": "python",
   "name": "python2"
  },
  "language_info": {
   "codemirror_mode": {
    "name": "ipython",
    "version": 2
   },
   "file_extension": ".py",
   "mimetype": "text/x-python",
   "name": "python",
   "nbconvert_exporter": "python",
   "pygments_lexer": "ipython2",
   "version": "2.7.6"
  }
 },
 "nbformat": 4,
 "nbformat_minor": 2
}
